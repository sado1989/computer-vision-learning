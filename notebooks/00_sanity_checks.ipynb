{
 "cells": [
  {"cell_type": "markdown", "metadata": {}, "source": ["# 00 — Sanity checks"]},
  {"cell_type": "code", "metadata": {}, "source": [
    "import torch, cv2, numpy as np, matplotlib.pyplot as plt\n",
    "print('Torch:', torch.__version__)\n",
    "print('CUDA available:', torch.cuda.is_available())\n",
    "print('OpenCV:', cv2.__version__)\n",
    "a = np.random.randn(64,64)\n",
    "plt.imshow(a, cmap='gray'); plt.title('Random sanity'); plt.show()"
  ]}
 ],
 "metadata": {"kernelspec": {"display_name": "Python 3", "language": "python", "name": "python3"}},
 "nbformat": 4, "nbformat_minor": 5
}
